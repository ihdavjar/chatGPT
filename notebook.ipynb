{
 "cells": [
  {
   "cell_type": "code",
   "execution_count": 148,
   "metadata": {},
   "outputs": [
    {
     "name": "stdout",
     "output_type": "stream",
     "text": [
      "1115394\n"
     ]
    }
   ],
   "source": [
    "text_data = open('/media/ihdav/Files/Research/Infrrd_Research/chatGPT/Data/Tiny_Shakespeare/input.txt','r',encoding='utf-8').read()\n",
    "print(len(text_data))"
   ]
  },
  {
   "cell_type": "code",
   "execution_count": 149,
   "metadata": {},
   "outputs": [
    {
     "name": "stdout",
     "output_type": "stream",
     "text": [
      "First Citizen:\n",
      "Before we proceed any further, hear me speak.\n",
      "\n",
      "All:\n",
      "Speak, speak.\n",
      "\n",
      "First Citizen:\n",
      "You are all resolved rather to die than to famish?\n",
      "\n",
      "All:\n",
      "Resolved. resolved.\n",
      "\n",
      "First Citizen:\n",
      "First, you know Caius Marcius is chief enemy to the people.\n",
      "\n",
      "All:\n",
      "We know't, we know't.\n",
      "\n",
      "First Citizen:\n",
      "Let us kill him, and we'll have corn at our own price.\n",
      "Is't a verdict?\n",
      "\n",
      "All:\n",
      "No more talking on't; let it be done: away, away!\n",
      "\n",
      "Second Citizen:\n",
      "One word, good citizens.\n",
      "\n",
      "First Citizen:\n",
      "We are accounted poor\n"
     ]
    }
   ],
   "source": [
    "print(text_data[:500])"
   ]
  },
  {
   "cell_type": "code",
   "execution_count": 150,
   "metadata": {},
   "outputs": [
    {
     "name": "stdout",
     "output_type": "stream",
     "text": [
      "Vocabulary Size: 65\n",
      "Vocabulary \n",
      "   ! $ & ' , - . 3 : ; ? A B C D E F G H I J K L M N O P Q R S T U V W X Y Z a b c d e f g h i j k l m n o p q r s t u v w x y z\n"
     ]
    }
   ],
   "source": [
    "vocab = sorted(list(set(text_data)))\n",
    "vocab_size = len(vocab)\n",
    "\n",
    "print(f'Vocabulary Size: {vocab_size}')\n",
    "print(f'Vocabulary {\" \".join(vocab)}')"
   ]
  },
  {
   "cell_type": "code",
   "execution_count": 151,
   "metadata": {},
   "outputs": [],
   "source": [
    "stoi = {s:i for i,s in enumerate(vocab)}\n",
    "itos = {i:s for s,i in stoi.items()}\n",
    "\n",
    "encode = lambda s: [stoi[ch] for ch in s]\n",
    "decode = lambda i: \"\".join([itos[i_t] for i_t in i])"
   ]
  },
  {
   "cell_type": "code",
   "execution_count": 152,
   "metadata": {},
   "outputs": [
    {
     "name": "stdout",
     "output_type": "stream",
     "text": [
      "torch.Size([1115394]) torch.int64\n"
     ]
    }
   ],
   "source": [
    "import torch\n",
    "\n",
    "Data = torch.tensor(encode(text_data),dtype=torch.long)\n",
    "print(Data.shape,Data.dtype)"
   ]
  },
  {
   "cell_type": "code",
   "execution_count": 153,
   "metadata": {},
   "outputs": [],
   "source": [
    "n = int(0.9*len(Data))\n",
    "train_data = Data[:n]\n",
    "val_data = Data[n:]"
   ]
  },
  {
   "cell_type": "code",
   "execution_count": 154,
   "metadata": {},
   "outputs": [
    {
     "data": {
      "text/plain": [
       "('First Cit', [18, 47, 56, 57, 58, 1, 15, 47, 58])"
      ]
     },
     "execution_count": 154,
     "metadata": {},
     "output_type": "execute_result"
    }
   ],
   "source": [
    "block_size = 8\n",
    "text_data[:block_size+1],encode(text_data[:block_size+1])"
   ]
  },
  {
   "cell_type": "code",
   "execution_count": 155,
   "metadata": {},
   "outputs": [
    {
     "data": {
      "text/plain": [
       "('First Cit', 'irst Citi')"
      ]
     },
     "execution_count": 155,
     "metadata": {},
     "output_type": "execute_result"
    }
   ],
   "source": [
    "text_data[:block_size+1],text_data[1:block_size+1+1]"
   ]
  },
  {
   "cell_type": "code",
   "execution_count": 156,
   "metadata": {},
   "outputs": [
    {
     "data": {
      "text/plain": [
       "(tensor([18, 47, 56, 57, 58,  1, 15, 47, 58]),\n",
       " tensor([47, 56, 57, 58,  1, 15, 47, 58]))"
      ]
     },
     "execution_count": 156,
     "metadata": {},
     "output_type": "execute_result"
    }
   ],
   "source": [
    "train_data[:block_size+1],train_data[1:block_size+1]"
   ]
  },
  {
   "cell_type": "code",
   "execution_count": 157,
   "metadata": {},
   "outputs": [
    {
     "name": "stdout",
     "output_type": "stream",
     "text": [
      "When input is [18] then output must be [47]\n",
      "When input is [18, 47] then output must be [56]\n",
      "When input is [18, 47, 56] then output must be [57]\n",
      "When input is [18, 47, 56, 57] then output must be [58]\n",
      "When input is [18, 47, 56, 57, 58] then output must be [1]\n",
      "When input is [18, 47, 56, 57, 58, 1] then output must be [15]\n",
      "When input is [18, 47, 56, 57, 58, 1, 15] then output must be [47]\n",
      "When input is [18, 47, 56, 57, 58, 1, 15, 47] then output must be [58]\n"
     ]
    }
   ],
   "source": [
    "x = text_data[:block_size+1]\n",
    "y = text_data[1:block_size+1]\n",
    "\n",
    "for t in range(block_size):\n",
    "    context = encode(x[:t+1])\n",
    "    target = encode(y[t])\n",
    "    print(f'When input is {context} then output must be {target}')\n"
   ]
  },
  {
   "cell_type": "code",
   "execution_count": 158,
   "metadata": {},
   "outputs": [],
   "source": [
    "#Creating Batches\n",
    "torch.manual_seed(1337)\n",
    "batch_size = 4 \n",
    "block_size = 8\n",
    "\n",
    "def get_batch(split):\n",
    "    data = train_data if split==\"train\" else val_data\n",
    "    ix = torch.randint(data.shape[0]-block_size,(batch_size,1))\n",
    "\n",
    "    x = torch.stack([data[i:i+block_size] for i in ix])\n",
    "    y = torch.stack([data[i+1:i+block_size+1] for i in ix])\n",
    "\n",
    "    return x,y\n",
    "\n",
    "xb,yb = get_batch('train')"
   ]
  },
  {
   "cell_type": "code",
   "execution_count": 159,
   "metadata": {},
   "outputs": [
    {
     "name": "stdout",
     "output_type": "stream",
     "text": [
      "Context: L Target: e\n",
      "Context: Le Target: t\n",
      "Context: Let Target: '\n",
      "Context: Let' Target: s\n",
      "Context: Let's Target:  \n",
      "Context: Let's  Target: h\n",
      "Context: Let's h Target: e\n",
      "Context: Let's he Target: a\n",
      "Context: f Target: o\n",
      "Context: fo Target: r\n",
      "Context: for Target:  \n",
      "Context: for  Target: t\n",
      "Context: for t Target: h\n",
      "Context: for th Target: a\n",
      "Context: for tha Target: t\n",
      "Context: for that Target:  \n",
      "Context: n Target: t\n",
      "Context: nt Target:  \n",
      "Context: nt  Target: t\n",
      "Context: nt t Target: h\n",
      "Context: nt th Target: a\n",
      "Context: nt tha Target: t\n",
      "Context: nt that Target:  \n",
      "Context: nt that  Target: h\n",
      "Context: M Target: E\n",
      "Context: ME Target: O\n",
      "Context: MEO Target: :\n",
      "Context: MEO: Target: \n",
      "\n",
      "Context: MEO:\n",
      " Target: I\n",
      "Context: MEO:\n",
      "I Target:  \n",
      "Context: MEO:\n",
      "I  Target: p\n",
      "Context: MEO:\n",
      "I p Target: a\n"
     ]
    }
   ],
   "source": [
    "for i in range(batch_size):\n",
    "    for k in range(block_size):\n",
    "        context = xb[i,:k+1].tolist()\n",
    "        target = yb[i,k].tolist()\n",
    "\n",
    "        print(f'Context: {decode(context)} Target: {decode([target])}')"
   ]
  },
  {
   "cell_type": "markdown",
   "metadata": {},
   "source": [
    "Bigram Language Model"
   ]
  },
  {
   "cell_type": "code",
   "execution_count": 160,
   "metadata": {},
   "outputs": [
    {
     "data": {
      "text/plain": [
       "(tensor([[ 1.6347, -0.0518,  0.4996,  ...,  0.2432,  1.1519,  0.9950],\n",
       "         [ 0.3418, -0.9276,  1.2381,  ...,  1.5018, -0.5266,  0.2354],\n",
       "         [ 0.1479, -0.4333,  0.5203,  ...,  0.3302,  1.5454,  1.3778],\n",
       "         ...,\n",
       "         [-0.5693, -0.0735,  0.7743,  ..., -0.0815, -1.1445, -0.0623],\n",
       "         [ 0.4658, -0.2573, -1.0673,  ...,  1.2439,  1.3471,  1.6910],\n",
       "         [-0.4553,  0.0139,  0.9309,  ...,  0.0290, -0.7568,  0.8701]],\n",
       "        grad_fn=<ViewBackward0>),\n",
       " tensor(5.0364, grad_fn=<NllLossBackward0>))"
      ]
     },
     "execution_count": 160,
     "metadata": {},
     "output_type": "execute_result"
    }
   ],
   "source": [
    "import torch.nn as nn\n",
    "import torch.nn.functional as F\n",
    "\n",
    "class BigramLanguageModel(nn.Module):\n",
    "    \n",
    "    def __init__(self,vocab_size):\n",
    "        super().__init__()\n",
    "        self.token_embedding_table = nn.Embedding(vocab_size,vocab_size) # A matrix M (C,C)\n",
    "    \n",
    "    def forward(self,idx,target=None):\n",
    "        logits = self.token_embedding_table(idx) # (B,T,C)\n",
    "\n",
    "        # B => Batch_Size | Number of samples per batch\n",
    "        # T => Times or Block_Size | length of the idx\n",
    "        # C => Vocab_Size or size of the vector\n",
    "\n",
    "        if target==None:\n",
    "            loss = None\n",
    "        else:\n",
    "            logits = logits.view(batch_size*block_size,vocab_size)\n",
    "            target = target.view(batch_size*block_size)\n",
    "\n",
    "            loss = F.cross_entropy(logits,target)\n",
    "        \n",
    "            \n",
    "        return logits,loss\n",
    "    \n",
    "    def generate(self,idx,max_new_tokens):\n",
    "        #idx is (B,T)\n",
    "\n",
    "        for i in range(max_new_tokens):\n",
    "            logits,loss =  self(idx)\n",
    "\n",
    "            #logits => (B1,T1,C)\n",
    "\n",
    "            #Have to focus only on the last case\n",
    "            logits = logits[:,-1,:] #(B1,C1)\n",
    "\n",
    "            probs = F.softmax(logits,dim=1) #Applying softmax along the C that is dimension 1\n",
    "\n",
    "            idx_next = torch.multinomial(probs,num_samples=1) #(B1,1)\n",
    "            \n",
    "            idx = torch.cat((idx,idx_next),dim=1) #(B1,T1+1)\n",
    "        \n",
    "        return idx #(B1,T1+max_new_tokens)\n",
    "    \n",
    "m = BigramLanguageModel(vocab_size=vocab_size)\n",
    "out = m(xb,yb)\n",
    "out"
   ]
  },
  {
   "cell_type": "code",
   "execution_count": 161,
   "metadata": {},
   "outputs": [],
   "source": [
    "optimizer = torch.optim.AdamW(m.parameters(),lr=1e-3)"
   ]
  },
  {
   "cell_type": "code",
   "execution_count": 162,
   "metadata": {},
   "outputs": [],
   "source": [
    "batch_size = 32\n",
    "lossess = []\n",
    "for steps in range(10000):\n",
    "    xb,yb = get_batch('train')\n",
    "\n",
    "    logits,loss = m(xb,yb)\n",
    "    \n",
    "    optimizer.zero_grad(set_to_none=True)\n",
    "    loss.backward()\n",
    "    optimizer.step()\n",
    "    lossess.append(loss.item())"
   ]
  },
  {
   "cell_type": "code",
   "execution_count": 163,
   "metadata": {},
   "outputs": [
    {
     "data": {
      "text/plain": [
       "[<matplotlib.lines.Line2D at 0x7f71f1988510>]"
      ]
     },
     "execution_count": 163,
     "metadata": {},
     "output_type": "execute_result"
    },
    {
     "data": {
      "image/png": "[encoded data removed]",
      "text/plain": [
       "<Figure size 640x480 with 1 Axes>"
      ]
     },
     "metadata": {},
     "output_type": "display_data"
    }
   ],
   "source": [
    "import matplotlib.pyplot as plt\n",
    "plt.plot(lossess)"
   ]
  },
  {
   "cell_type": "code",
   "execution_count": 164,
   "metadata": {},
   "outputs": [
    {
     "data": {
      "text/plain": [
       "2.4487955570220947"
      ]
     },
     "execution_count": 164,
     "metadata": {},
     "output_type": "execute_result"
    }
   ],
   "source": [
    "lossess[-1]"
   ]
  },
  {
   "cell_type": "code",
   "execution_count": 165,
   "metadata": {},
   "outputs": [
    {
     "name": "stdout",
     "output_type": "stream",
     "text": [
      "\n",
      "Thidin y y arermet hn y, denjohece w illd CHAL, mer thoun s's:\n",
      "Thicuntilalllevise sthat dy hangilyoteng h hasbe pave pirance\n",
      "RDe hicomyonthar's\n",
      "PES:\n",
      "AKEd ith henourzincenonthioneir thondy, y heltieiengerofo'dsssit ey\n",
      "KINld pe wither vouprroutherccnohathe; d!\n",
      "My hind tt hinig t ouchos tes; st yo hind wotte grotonear 'so itJas\n",
      "Waketancotha:\n",
      "h hay.JUCLUKn prids, r loncave w hollular s O:\n",
      "HIs; ht anjx?\n",
      "\n",
      "DUThinqunt.\n",
      "\n",
      "LaZEESTEORDY:\n",
      "h l.\n",
      "KEONGBUCHandspo be y,-JZNEEYowddy scace, tridesar, wnl'shenous s ls, theresseys\n",
      "PlorseelapinghienHen yof GLANCHI me. strsithisgothers jveere!-e!\n",
      "QUCotouciullle's fldrwertho s?\n",
      "NDan'spererds cist ripl chyreer orlese;\n",
      "Yo jowof h hecere ek? wferommot mowo soaf you f;\n",
      "Ane his, t, f at. fal whetrimy bupof tor atha Bu!\n",
      "JOutho fplimimave.\n",
      "NEDUSt cir selle p wie wede\n",
      "Ro n apenor f'Y tover witys an sh d w t e w!\n",
      "CilttiretoaveE IINGAwe n ck. cung.\n",
      "ORDUSURes hacin benqurd bll, d a r w wistatsowor ath\n",
      "Fivet bloll ang aror;\n",
      "ARKIOULemee tsce larry t I Ane szF t\n",
      "LCay thit,\n",
      "\n"
     ]
    }
   ],
   "source": [
    "idx = torch.zeros((1,1),dtype=torch.long)\n",
    "print(decode(m.generate(idx,1000)[0].tolist()))\n"
   ]
  },
  {
   "cell_type": "markdown",
   "metadata": {},
   "source": [
    "Now converting the above code into a Python script"
   ]
  },
  {
   "cell_type": "markdown",
   "metadata": {},
   "source": [
    "Mathematical Trick Used in Self-Attention."
   ]
  },
  {
   "cell_type": "code",
   "execution_count": 166,
   "metadata": {},
   "outputs": [
    {
     "data": {
      "text/plain": [
       "torch.Size([4, 8, 2])"
      ]
     },
     "execution_count": 166,
     "metadata": {},
     "output_type": "execute_result"
    }
   ],
   "source": [
    "torch.manual_seed(1337)\n",
    "\n",
    "B,T,C = 4,8,2\n",
    "x = torch.randn(B,T,C)\n",
    "x.shape"
   ]
  },
  {
   "cell_type": "markdown",
   "metadata": {},
   "source": [
    "We want these tokens to talk to each other in causal manner. Depends only on t-1"
   ]
  },
  {
   "cell_type": "markdown",
   "metadata": {},
   "source": [
    "simplest manner is to do the average."
   ]
  },
  {
   "cell_type": "code",
   "execution_count": 167,
   "metadata": {},
   "outputs": [
    {
     "data": {
      "text/plain": [
       "torch.Size([32, 2])"
      ]
     },
     "execution_count": 167,
     "metadata": {},
     "output_type": "execute_result"
    }
   ],
   "source": [
    "x.view(B*T,C).shape"
   ]
  },
  {
   "cell_type": "code",
   "execution_count": 168,
   "metadata": {},
   "outputs": [
    {
     "name": "stdout",
     "output_type": "stream",
     "text": [
      "torch.Size([4, 8, 2])\n"
     ]
    }
   ],
   "source": [
    "# For every x[b,t]->(1,C) we want to have sum(x[b,:t])->(1,C)\n",
    "\n",
    "#xbagofwords\n",
    "\n",
    "xbow = torch.zeros((B,T,C))\n",
    "\n",
    "for i in range(x.shape[0]):\n",
    "    for j in range(x.shape[1]):\n",
    "        xbow[i,j] = x[i,:j+1].mean(0,keepdim=True)\n",
    "\n",
    "print(xbow.shape)"
   ]
  },
  {
   "cell_type": "code",
   "execution_count": 169,
   "metadata": {},
   "outputs": [
    {
     "name": "stdout",
     "output_type": "stream",
     "text": [
      "tensor([[[ 0.1808, -0.0700],\n",
      "         [-0.3596, -0.9152],\n",
      "         [ 0.6258,  0.0255],\n",
      "         [ 0.9545,  0.0643],\n",
      "         [ 0.3612,  1.1679],\n",
      "         [-1.3499, -0.5102],\n",
      "         [ 0.2360, -0.2398],\n",
      "         [-0.9211,  1.5433]]])\n"
     ]
    }
   ],
   "source": [
    "print(x[[0]])"
   ]
  },
  {
   "cell_type": "code",
   "execution_count": 170,
   "metadata": {},
   "outputs": [
    {
     "name": "stdout",
     "output_type": "stream",
     "text": [
      "tensor([[[ 0.1808, -0.0700],\n",
      "         [-0.0894, -0.4926],\n",
      "         [ 0.1490, -0.3199],\n",
      "         [ 0.3504, -0.2238],\n",
      "         [ 0.3525,  0.0545],\n",
      "         [ 0.0688, -0.0396],\n",
      "         [ 0.0927, -0.0682],\n",
      "         [-0.0341,  0.1332]]])\n"
     ]
    }
   ],
   "source": [
    "print(xbow[[0]])"
   ]
  },
  {
   "cell_type": "code",
   "execution_count": 171,
   "metadata": {},
   "outputs": [
    {
     "data": {
      "text/plain": [
       "tensor([[ 0.1808, -0.0700],\n",
       "        [-0.0894, -0.4926],\n",
       "        [ 0.1490, -0.3199],\n",
       "        [ 0.3504, -0.2238],\n",
       "        [ 0.3525,  0.0545],\n",
       "        [ 0.0688, -0.0396],\n",
       "        [ 0.0927, -0.0682],\n",
       "        [-0.0341,  0.1332]])"
      ]
     },
     "execution_count": 171,
     "metadata": {},
     "output_type": "execute_result"
    }
   ],
   "source": [
    "#Causal Weights\n",
    "wei = torch.tril(torch.ones((T,T)))\n",
    "wei = wei/wei.sum(1,keepdim=True)\n",
    "xbow_2 = wei @ x # (B,T,T) @ (B,T,C) => (B,T,C\n",
    "# batching is done in memory\n",
    "\n",
    "xbow_2[0]"
   ]
  },
  {
   "cell_type": "code",
   "execution_count": 172,
   "metadata": {},
   "outputs": [
    {
     "data": {
      "text/plain": [
       "True"
      ]
     },
     "execution_count": 172,
     "metadata": {},
     "output_type": "execute_result"
    }
   ],
   "source": [
    "torch.allclose(xbow,xbow_2,atol=1e-7)"
   ]
  },
  {
   "cell_type": "markdown",
   "metadata": {},
   "source": [
    "Version 2"
   ]
  },
  {
   "cell_type": "code",
   "execution_count": 173,
   "metadata": {},
   "outputs": [
    {
     "name": "stdout",
     "output_type": "stream",
     "text": [
      "a= \n",
      " tensor([[1.0000, 0.0000, 0.0000],\n",
      "        [0.5000, 0.5000, 0.0000],\n",
      "        [0.3333, 0.3333, 0.3333]])\n",
      "b= \n",
      " tensor([[2., 7.],\n",
      "        [6., 4.],\n",
      "        [6., 5.]])\n",
      "c= \n",
      " tensor([[2.0000, 7.0000],\n",
      "        [4.0000, 5.5000],\n",
      "        [4.6667, 5.3333]])\n"
     ]
    }
   ],
   "source": [
    "torch.manual_seed(42)\n",
    "\n",
    "a = torch.ones((3,3))\n",
    "a = torch.tril(a)/a.sum(0,keepdim=True)\n",
    "\n",
    "# FOR AVERAGE\n",
    "a = a/a.sum(1,keepdim=True)\n",
    "b = torch.randint(0,10,(3,2)).float()\n",
    "c = a @ b\n",
    "\n",
    "print(f'a= \\n {a}')\n",
    "print(f'b= \\n {b}')\n",
    "print(f'c= \\n {c}')"
   ]
  },
  {
   "cell_type": "markdown",
   "metadata": {},
   "source": [
    "Version 3"
   ]
  },
  {
   "cell_type": "code",
   "execution_count": 174,
   "metadata": {},
   "outputs": [
    {
     "data": {
      "text/plain": [
       "True"
      ]
     },
     "execution_count": 174,
     "metadata": {},
     "output_type": "execute_result"
    }
   ],
   "source": [
    "tril = torch.tril(torch.ones((T,T)))\n",
    "\n",
    "wei = torch.zeros((T,T)) #(Affinities)\n",
    "\n",
    "#This is like the weightes aggregates, These depends on the data. \n",
    "\n",
    "wei = wei.masked_fill(tril==0,  float('-inf')) #This Line is implying the causal nature of the weights\n",
    "\n",
    "wei = F.softmax(wei,dim=1)\n",
    "xbow_3 = wei @ x\n",
    "xbow_3[0]\n",
    "torch.allclose(xbow,xbow_3,atol=1e-7)"
   ]
  },
  {
   "cell_type": "markdown",
   "metadata": {},
   "source": [
    "Version 4 self-attention"
   ]
  },
  {
   "cell_type": "code",
   "execution_count": 175,
   "metadata": {},
   "outputs": [
    {
     "data": {
      "text/plain": [
       "torch.Size([4, 8, 16])"
      ]
     },
     "execution_count": 175,
     "metadata": {},
     "output_type": "execute_result"
    }
   ],
   "source": [
    "torch.manual_seed(1337)\n",
    "B,T,C = 4,8,32\n",
    "x = torch.randn(B,T,C)\n",
    "\n",
    "tril = torch.tril((torch.ones((T,T))))\n",
    "head_size = 16\n",
    "\n",
    "key = torch.nn.Linear(C,head_size)\n",
    "query = torch.nn.Linear(C,head_size)\n",
    "value = torch.nn.Linear(C,head_size)\n",
    "\n",
    "\n",
    "k = key(x) # (B,T,head_size)\n",
    "q = query(x) # (B,T,head_size)\n",
    "v = value(x) # (B,T,head_size)\n",
    "\n",
    "#let k and q be unit gaussian\n",
    "# k = torch.randn((B,T,head_size))\n",
    "# q = torch.randn((B,T,head_size))\n",
    "\n",
    "# wei = torch.zeros((T,T))\n",
    "\n",
    "#here we normalise the weights in order to take care the diffusion of the outputs\n",
    "wei = k @ q.transpose(-2,-1)*(head_size**(-0.5)) # (B,T,head_size) @ (B,head_size,T) => (B,T,T)\n",
    "\n",
    "wei = wei.masked_fill(tril==0,float('-inf'))\n",
    "wei = F.softmax(wei,dim=-1)   # (B,T,T)\n",
    "\n",
    "#x is like a private information of input\n",
    "#v is like the information for this particular head\n",
    "out = wei @ v #(B,T,T) @ (B,T,head_size) => (B,T,head_size)\n",
    "out.shape"
   ]
  },
  {
   "cell_type": "code",
   "execution_count": 176,
   "metadata": {},
   "outputs": [
    {
     "data": {
      "text/plain": [
       "(tensor(0.3188, grad_fn=<VarBackward0>),\n",
       " tensor(0.3494, grad_fn=<VarBackward0>),\n",
       " tensor(1.0731),\n",
       " tensor(0.0284, grad_fn=<VarBackward0>))"
      ]
     },
     "execution_count": 176,
     "metadata": {},
     "output_type": "execute_result"
    }
   ],
   "source": [
    "k.var(),q.var(),x.var(),wei.var()"
   ]
  },
  {
   "cell_type": "code",
   "execution_count": 177,
   "metadata": {},
   "outputs": [
    {
     "data": {
      "text/plain": [
       "tensor([[[1.0000, 0.0000, 0.0000, 0.0000, 0.0000, 0.0000, 0.0000, 0.0000],\n",
       "         [0.6253, 0.3747, 0.0000, 0.0000, 0.0000, 0.0000, 0.0000, 0.0000],\n",
       "         [0.2270, 0.3988, 0.3742, 0.0000, 0.0000, 0.0000, 0.0000, 0.0000],\n",
       "         [0.2753, 0.2068, 0.3019, 0.2160, 0.0000, 0.0000, 0.0000, 0.0000],\n",
       "         [0.1404, 0.2093, 0.1792, 0.2279, 0.2432, 0.0000, 0.0000, 0.0000],\n",
       "         [0.2189, 0.1305, 0.1471, 0.1536, 0.1938, 0.1562, 0.0000, 0.0000],\n",
       "         [0.1272, 0.0951, 0.1267, 0.1255, 0.1500, 0.2287, 0.1467, 0.0000],\n",
       "         [0.1650, 0.1156, 0.1266, 0.0990, 0.1436, 0.1036, 0.1029, 0.1438]],\n",
       "\n",
       "        [[1.0000, 0.0000, 0.0000, 0.0000, 0.0000, 0.0000, 0.0000, 0.0000],\n",
       "         [0.4666, 0.5334, 0.0000, 0.0000, 0.0000, 0.0000, 0.0000, 0.0000],\n",
       "         [0.3195, 0.2411, 0.4394, 0.0000, 0.0000, 0.0000, 0.0000, 0.0000],\n",
       "         [0.3204, 0.3697, 0.1820, 0.1278, 0.0000, 0.0000, 0.0000, 0.0000],\n",
       "         [0.2115, 0.2108, 0.2268, 0.1813, 0.1697, 0.0000, 0.0000, 0.0000],\n",
       "         [0.1276, 0.1395, 0.1879, 0.2196, 0.1353, 0.1901, 0.0000, 0.0000],\n",
       "         [0.1532, 0.0965, 0.0731, 0.1021, 0.1957, 0.1870, 0.1925, 0.0000],\n",
       "         [0.1119, 0.0861, 0.1336, 0.1989, 0.0930, 0.1101, 0.1231, 0.1433]],\n",
       "\n",
       "        [[1.0000, 0.0000, 0.0000, 0.0000, 0.0000, 0.0000, 0.0000, 0.0000],\n",
       "         [0.4509, 0.5491, 0.0000, 0.0000, 0.0000, 0.0000, 0.0000, 0.0000],\n",
       "         [0.3250, 0.3278, 0.3472, 0.0000, 0.0000, 0.0000, 0.0000, 0.0000],\n",
       "         [0.2623, 0.1986, 0.2411, 0.2980, 0.0000, 0.0000, 0.0000, 0.0000],\n",
       "         [0.1505, 0.2112, 0.1505, 0.2077, 0.2801, 0.0000, 0.0000, 0.0000],\n",
       "         [0.1428, 0.1284, 0.1214, 0.3023, 0.1239, 0.1812, 0.0000, 0.0000],\n",
       "         [0.1652, 0.1120, 0.0986, 0.2884, 0.0774, 0.1200, 0.1384, 0.0000],\n",
       "         [0.1210, 0.1106, 0.1634, 0.1519, 0.0830, 0.1148, 0.0926, 0.1627]],\n",
       "\n",
       "        [[1.0000, 0.0000, 0.0000, 0.0000, 0.0000, 0.0000, 0.0000, 0.0000],\n",
       "         [0.6017, 0.3983, 0.0000, 0.0000, 0.0000, 0.0000, 0.0000, 0.0000],\n",
       "         [0.3175, 0.3143, 0.3682, 0.0000, 0.0000, 0.0000, 0.0000, 0.0000],\n",
       "         [0.2288, 0.2873, 0.3094, 0.1745, 0.0000, 0.0000, 0.0000, 0.0000],\n",
       "         [0.1826, 0.2216, 0.2329, 0.1925, 0.1703, 0.0000, 0.0000, 0.0000],\n",
       "         [0.1193, 0.2453, 0.1127, 0.1533, 0.2216, 0.1479, 0.0000, 0.0000],\n",
       "         [0.1546, 0.1011, 0.1425, 0.1868, 0.0645, 0.1668, 0.1837, 0.0000],\n",
       "         [0.0819, 0.2964, 0.1351, 0.0811, 0.1024, 0.1135, 0.1157, 0.0740]]],\n",
       "       grad_fn=<SoftmaxBackward0>)"
      ]
     },
     "execution_count": 177,
     "metadata": {},
     "output_type": "execute_result"
    }
   ],
   "source": [
    "wei"
   ]
  },
  {
   "cell_type": "code",
   "execution_count": 181,
   "metadata": {},
   "outputs": [
    {
     "data": {
      "text/plain": [
       "tensor([[1.0000e+00, 0.0000e+00, 0.0000e+00, 9.6020e-31]])"
      ]
     },
     "execution_count": 181,
     "metadata": {},
     "output_type": "execute_result"
    }
   ],
   "source": [
    "torch.softmax(torch.randn((1,4))*1000,dim=1)"
   ]
  }
 ],
 "metadata": {
  "kernelspec": {
   "display_name": "titans_env",
   "language": "python",
   "name": "python3"
  },
  "language_info": {
   "codemirror_mode": {
    "name": "ipython",
    "version": 3
   },
   "file_extension": ".py",
   "mimetype": "text/x-python",
   "name": "python",
   "nbconvert_exporter": "python",
   "pygments_lexer": "ipython3",
   "version": "3.11.5"
  }
 },
 "nbformat": 4,
 "nbformat_minor": 2
}
